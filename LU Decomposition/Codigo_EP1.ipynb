{
 "cells": [
  {
   "cell_type": "markdown",
   "id": "f3aba4be",
   "metadata": {},
   "source": [
    "# EP1 - Decomposição LU para Matrizes Tridiagonais\n",
    "### Gabriel Souza Lima 11820106\n",
    "### Lucas Pereira da Fonseca 11808126"
   ]
  },
  {
   "cell_type": "markdown",
   "id": "6c8a22b7",
   "metadata": {},
   "source": [
    "### Bibliotecas"
   ]
  },
  {
   "cell_type": "code",
   "execution_count": 1,
   "id": "b4d91073",
   "metadata": {},
   "outputs": [],
   "source": [
    "import numpy as np\n",
    "import math\n",
    "import matplotlib.pyplot as plt\n",
    "import time"
   ]
  },
  {
   "cell_type": "markdown",
   "id": "31b5ffc7",
   "metadata": {},
   "source": [
    "Escolha o valor de n abaixo para realizar os testes."
   ]
  },
  {
   "cell_type": "code",
   "execution_count": 2,
   "id": "8a9ea659",
   "metadata": {},
   "outputs": [],
   "source": [
    "n = 20000"
   ]
  },
  {
   "cell_type": "markdown",
   "id": "c3304378",
   "metadata": {},
   "source": [
    "## Funções usadas na resolução\n",
    "Rode a célula abaixo para criar as funções."
   ]
  },
  {
   "cell_type": "code",
   "execution_count": 3,
   "id": "f3a36c63",
   "metadata": {},
   "outputs": [],
   "source": [
    "#criando os coeficientes da matriz tridiagonal cíclica, tal como definido no enunciado do EP.\n",
    "def criaCoeficientes(n):\n",
    "    \"\"\"Cria os coeficientes da matriz tridiagonal cíclica e o vetor d\n",
    "    Args:\n",
    "        n: tamanho dos vetores\n",
    "    Return:\n",
    "        a, b, c e d\"\"\"\n",
    "    a = (2*np.arange(1,n+1)-1)/(4*np.arange(1,n+1))\n",
    "    a[n-1] = (2*n-1)/(2*n)\n",
    "    c = 1 - a\n",
    "    b = np.repeat(2,n)\n",
    "    d = np.array([math.cos(i) for i in 2*math.pi*(np.arange(1,n+1)**2)/(n**2)])\n",
    "    return a,b,c,d   \n",
    "\n",
    "def criaVetoresTridiagonais(n):\n",
    "    \"\"\"Cria os coeficientes da matriz tridiagonal e o vetor d, para testar a função resolveSlTridiagonal()\n",
    "    Args:\n",
    "        n: tamanho dos vetores\n",
    "    Return:\n",
    "        a, b, c e d\"\"\"\n",
    "    a = np.repeat(-1,n)\n",
    "    b = np.repeat(2,n)\n",
    "    c = np.copy(a)\n",
    "    a[0] = 0\n",
    "    c[n-1] = 0\n",
    "    d = np.repeat(1,n)\n",
    "    return a,b,c,d\n",
    "\n",
    "def decompoeTridiagonalLU(a,b,c):\n",
    "    \"\"\"Faz a decomposição em LU de uma matriz A nxn tridiagonal, com coeficientes a, b, c.\n",
    "    Args: \n",
    "        a, b, c: diagonais não nulas da matriz tridiagonal A\n",
    "    Return:      \n",
    "        l: multiplicadores da matriz L\n",
    "        u: diagonal principal de U\n",
    "    \"\"\"\n",
    "    n = len(a)\n",
    "    u = np.zeros(n)\n",
    "    l = np.zeros(n)\n",
    "    u[0] = b[0]\n",
    "    for i in range(1,n,1):\n",
    "        l[i] = a[i]/u[i-1]\n",
    "        u[i] = b[i]-l[i]*c[i-1]\n",
    "    return l, u\n",
    "\n",
    "def resolveSlTridiagonal(a,b,c,d):\n",
    "    \"\"\"Resolve um sistema linear tridiagonal\n",
    "    Args:\n",
    "        a, b, c: diagonais não nulas da matriz tridiagonal A\n",
    "        d: vetor tal que Ax = d\n",
    "    Return:\n",
    "        x: solução do sistema linear\n",
    "    \"\"\"\n",
    "    #gerando os vetores que representam L e U\n",
    "    l, u = decompoeTridiagonalLU(a,b,c) \n",
    "    \n",
    "    n = len(a)\n",
    "    y = np.zeros(n)\n",
    "    x = np.zeros(n)\n",
    "    \n",
    "    #Ly = d\n",
    "    y[0] = d[0]\n",
    "    for i in range(1,n,1):\n",
    "        y[i] = d[i] - l[i]*y[i-1]\n",
    "    \n",
    "    #Ux = y\n",
    "    x[n-1] = y[n-1]/u[n-1]\n",
    "    for i in range(n-2,-1,-1):\n",
    "        x[i] = (y[i] - c[i]*x[i+1])/u[i]\n",
    "        \n",
    "    return x\n",
    "\n",
    "def resolveSistemaTridiagonalCiclico(a,b,c,d):\n",
    "    \"\"\"Resolve um sistema tridiagonal cíclico\n",
    "    Args:\n",
    "        a, b, c: diagonais não nulas da matriz tridiagonal A\n",
    "        d: vetor tal que Ax = d\n",
    "    Return:\n",
    "        x: solução do sistema linear\n",
    "    \"\"\"\n",
    "    n = len(a)\n",
    "    \n",
    "    #v = (a1,0,...,0,cn-1)T\n",
    "    v = np.zeros(n-1)\n",
    "    v[0], v[n-2] = a[0], c[n-2]\n",
    "    v = v.T\n",
    "    \n",
    "    # w = (cn,0,...,0,an)T\n",
    "    w = np.zeros(n-1)\n",
    "    w[0], w[n-2] = c[n-1], a[n-1]\n",
    "    w = w.T\n",
    "    \n",
    "    # d_ = (d1,...,dn-1)T\n",
    "    d_ = d[:n-1].T\n",
    "    \n",
    "    # T é a submatriz principal de A. \n",
    "    # Representamos T pelos vetores a_sub=(0,a2,...,an-1), b_sub=(b1,...,bn-1) e c_sub(c1,...,cn-2) para economizar memória    \n",
    "    a_sub = np.concatenate((np.array([0]),a[1:n-1]))\n",
    "    b_sub = b[:n-1]\n",
    "    c_sub = np.concatenate((c[:n-2],np.array([0])))  \n",
    "    \n",
    "    # Ty_ = d_ \n",
    "    y_ = resolveSlTridiagonal(a_sub, b_sub, c_sub, d_)\n",
    "    \n",
    "    # Tz_ = v\n",
    "    z_ = resolveSlTridiagonal(a_sub, b_sub, c_sub ,v)\n",
    "    \n",
    "    # Aqui iremos encontrar x, a solução de Ax = d\n",
    "    x = np.zeros(n).T\n",
    "    x[n-1] = (d[n-1]-c[n-1]*y_[0]-a[n-1]*y_[n-2])/(b[n-1]-c[n-1]*z_[0]-a[n-1]*z_[n-2])\n",
    "    x[:n-1] = y_ - x[n-1]*z_\n",
    "    \n",
    "    return x\n",
    "\n",
    "def erroSlTridiagonal(a,b,c,d,x):\n",
    "    \"\"\"Encontra o maior erro na solução de um sistema tridiagonal\n",
    "    Args:    \n",
    "        a, b, c: diagonais não nulas da matriz tridiagonal A\n",
    "        x: solução do sistema linear\n",
    "        d: vetor tal que Ax = d      \n",
    "    Return:\n",
    "        maior_erro: maior erro da solução \n",
    "    \"\"\"\n",
    "    n = len(a)\n",
    "    erro = np.zeros(n)\n",
    "    erro[0] = d[0] - (b[0]*x[0]+c[0]*x[1])\n",
    "    for i in range(1,n-1):\n",
    "        erro[i] = d[i] - (a[i]*x[i-1]+b[i]*x[i]+c[i]*x[i+1])\n",
    "    erro[n-1] = d[n-1] - (a[n-1]*x[n-2]+b[n-1]*x[n-1])\n",
    "    maior_erro = np.max(np.abs(erro))\n",
    "    return maior_erro\n",
    "\n",
    "def erroSlTridiagonalCiclico(a,b,c,d,x):\n",
    "    \"\"\"Encontra o maior erro na solução de um sistema tridiagonal cíclico\n",
    "    Args:    \n",
    "        a, b, c: diagonais não nulas da matriz tridiagonal A\n",
    "        x: solução do sistema linear\n",
    "        d: vetor tal que Ax = d      \n",
    "    Return:\n",
    "        maior_erro: maior erro da solução \n",
    "    \"\"\"\n",
    "    n = len(a)\n",
    "    erro = np.zeros(n)\n",
    "    erro[0] = d[0] - (b[0]*x[0]+c[0]*x[1]+a[0]*x[n-1])\n",
    "    for i in range(1,n-1):\n",
    "        erro[i] = d[i] - (a[i]*x[i-1]+b[i]*x[i]+c[i]*x[i+1])\n",
    "    erro[n-1] = d[n-1] - (c[n-1]*x[0]+a[n-1]*x[n-2]+b[n-1]*x[n-1])\n",
    "    maior_erro = np.max(np.abs(erro))\n",
    "    return maior_erro\n",
    "\n",
    "def calculaResiduoParaGrafico(n):\n",
    "    \"\"\"Calcula o resíduo máximo de uma solução do sistema tridiagonal cíclico. Essa função será usada para plotar o gráfico\n",
    "    Args:\n",
    "        n: tamanho do vetor\n",
    "    Return:\n",
    "        erro_max: resíduo máximo\"\"\"\n",
    "    a,b,c,d = criaCoeficientes(n)\n",
    "    x = resolveSistemaTridiagonalCiclico(a,b,c,d)\n",
    "    erro = np.zeros(n)\n",
    "    erro[0] = d[0] - (b[0]*x[0]+c[0]*x[1]+a[0]*x[n-1])\n",
    "    for i in range(1,n-1):\n",
    "        erro[i] = d[i] - (a[i]*x[i-1]+b[i]*x[i]+c[i]*x[i+1])\n",
    "    erro[n-1] = d[n-1] - (c[n-1]*x[0]+a[n-1]*x[n-2]+b[n-1]*x[n-1])\n",
    "    erro_max = np.max(np.abs(erro))\n",
    "    return erro_max"
   ]
  },
  {
   "cell_type": "markdown",
   "id": "498533b9",
   "metadata": {},
   "source": [
    "### Tarefa 1\n",
    "Basta rodar as células para visualizar os resultados."
   ]
  },
  {
   "cell_type": "code",
   "execution_count": 4,
   "id": "19199764",
   "metadata": {},
   "outputs": [
    {
     "name": "stdout",
     "output_type": "stream",
     "text": [
      " Vetor l: [0.         0.1875     0.22408964 ... 0.26794249 0.26794249 0.53588499] \n",
      "\n",
      " Vetor u: [2.         1.859375   1.85994398 ... 1.8660254  1.8660254  1.73205081] \n",
      "\n"
     ]
    }
   ],
   "source": [
    "# gerando os coeficientes\n",
    "a,b,c,d = criaCoeficientes(n)\n",
    "\n",
    "# vamos ver quais são os vetores l e u\n",
    "l, u = decompoeTridiagonalLU(a,b,c)\n",
    "print(f\" Vetor l: {l} \\n\\n Vetor u: {u} \\n\")"
   ]
  },
  {
   "cell_type": "markdown",
   "id": "5d2214f2",
   "metadata": {},
   "source": [
    "### Tarefa 2"
   ]
  },
  {
   "cell_type": "code",
   "execution_count": 5,
   "id": "aa76f9e9",
   "metadata": {},
   "outputs": [
    {
     "name": "stdout",
     "output_type": "stream",
     "text": [
      " Solução do sistema tridiagonal: [10000.00000027 19999.00000053 29997.0000008  ... 29997.00000006\n",
      " 19999.00000004 10000.00000002] \n",
      "\n",
      " Soma da solução: 666766670018.258 \n",
      "\n",
      " Resíduo máximo: 1.4901161193847656e-08 \n",
      "\n",
      " Duração: 0.5362036228179932 s\n"
     ]
    }
   ],
   "source": [
    "# aqui, testamos a função resolveSlTridiagonal\n",
    "inicio = time.time()\n",
    "a_,b_,c_,d_ = criaVetoresTridiagonais(n)\n",
    "x_ = resolveSlTridiagonal(a_,b_,c_,d_)\n",
    "r_ = erroSlTridiagonal(a_,b_,c_,d_,x_)\n",
    "tempo = time.time() - inicio\n",
    "\n",
    "print(f\" Solução do sistema tridiagonal: {x_} \\n\\n Soma da solução: {np.sum(x_)} \\n\\n Resíduo máximo: {r_} \\n\\n Duração: {tempo} s\")"
   ]
  },
  {
   "cell_type": "markdown",
   "id": "72625ff2",
   "metadata": {},
   "source": [
    "### Solução do sistema tridiagonal cíclico\n",
    "Rode a célula abaixo para verificar a solução e o erro."
   ]
  },
  {
   "cell_type": "code",
   "execution_count": 6,
   "id": "f919e031",
   "metadata": {},
   "outputs": [
    {
     "name": "stdout",
     "output_type": "stream",
     "text": [
      " Tamanho do vetor: 20000 \n",
      "\n",
      " Solução: [0.33333333 0.33333333 0.33333333 ... 0.33333309 0.33333329 0.33333336] \n",
      "\n",
      " Soma da solução: 1627.5113595866928 \n",
      "\n",
      " Resíduo máximo: 2.220446049250313e-16 \n",
      "\n",
      " Duração: 0.3612377643585205 s\n"
     ]
    }
   ],
   "source": [
    "inicio  = time.time()\n",
    "\n",
    "#criando os vetores\n",
    "a,b,c,d = criaCoeficientes(n) \n",
    "#encontrando a solução\n",
    "x = resolveSistemaTridiagonalCiclico(a,b,c,d)\n",
    "#calculando o resíduo máximo\n",
    "r = erroSlTridiagonalCiclico(a,b,c,d,x)\n",
    "\n",
    "tempo = time.time() - inicio\n",
    "print(f\" Tamanho do vetor: {n} \\n\\n Solução: {x} \\n\\n Soma da solução: {np.sum(x)} \\n\\n Resíduo máximo: {r} \\n\\n Duração: {tempo} s\")"
   ]
  },
  {
   "cell_type": "markdown",
   "id": "f025bd35",
   "metadata": {},
   "source": [
    "### Finalmente, vamos visualizar qual foi o erro da solução para o sistema tridiagonal cíclico.\n",
    "Se desejar, pode mudar as variáveis n_min, n_max, e step."
   ]
  },
  {
   "cell_type": "code",
   "execution_count": 7,
   "id": "5c183654",
   "metadata": {},
   "outputs": [],
   "source": [
    "n_min = 10\n",
    "n_max = 50000\n",
    "step = 1000"
   ]
  },
  {
   "cell_type": "markdown",
   "id": "9636b49a",
   "metadata": {},
   "source": [
    "### Gráficos\n",
    "Vamos visualizar como variam os erros máximos das soluções com o aumento dos vetores."
   ]
  },
  {
   "cell_type": "markdown",
   "id": "610ff2a6",
   "metadata": {},
   "source": [
    "Rode as células abaixo para ver os gráficos."
   ]
  },
  {
   "cell_type": "code",
   "execution_count": 8,
   "id": "0d1aced9",
   "metadata": {},
   "outputs": [
    {
     "name": "stdout",
     "output_type": "stream",
     "text": [
      "Duração: 38.26023769378662 s\n"
     ]
    },
    {
     "data": {
      "image/png": "[encoded data removed]",
      "text/plain": [
       "<Figure size 432x288 with 1 Axes>"
      ]
     },
     "metadata": {
      "needs_background": "light"
     },
     "output_type": "display_data"
    }
   ],
   "source": [
    "inicio = time.time()\n",
    "tamanho_vetores = np.arange(n_min,n_max,step)\n",
    "erroTridiagonalCiclicoVetorizado = np.vectorize(calculaResiduoParaGrafico)\n",
    "residuos_cicl_maximos = erroTridiagonalCiclicoVetorizado(tamanho_vetores)\n",
    "tempo = time.time() - inicio\n",
    "print(f\"Duração: {tempo} s\")\n",
    "\n",
    "#plotando o gráfico\n",
    "fig, ax = plt.subplots()\n",
    "ax.plot(tamanho_vetores, residuos_cicl_maximos)\n",
    "ax.set_xlabel(\"n\")\n",
    "ax.set_ylabel(\"Resíduo\")\n",
    "plt.title(\"Relação entre n e resíduo máximo Cíclico\")\n",
    "plt.show()"
   ]
  }
 ],
 "metadata": {
  "kernelspec": {
   "display_name": "Python 3 (ipykernel)",
   "language": "python",
   "name": "python3"
  },
  "language_info": {
   "codemirror_mode": {
    "name": "ipython",
    "version": 3
   },
   "file_extension": ".py",
   "mimetype": "text/x-python",
   "name": "python",
   "nbconvert_exporter": "python",
   "pygments_lexer": "ipython3",
   "version": "3.9.7"
  }
 },
 "nbformat": 4,
 "nbformat_minor": 5
}
