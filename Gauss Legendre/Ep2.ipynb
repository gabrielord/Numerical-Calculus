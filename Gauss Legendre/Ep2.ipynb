{
 "cells": [
  {
   "cell_type": "markdown",
   "id": "8c4ff0d8",
   "metadata": {},
   "source": [
    "# Código Fonte\n",
    "### Gabriel Souza Lima 11820106"
   ]
  },
  {
   "cell_type": "markdown",
   "id": "642a2c07",
   "metadata": {},
   "source": [
    "### Bibliotecas\n",
    "Rode a célula abaixo."
   ]
  },
  {
   "cell_type": "code",
   "execution_count": 1,
   "id": "da4f28ac",
   "metadata": {},
   "outputs": [],
   "source": [
    "import numpy as np\n",
    "import pandas as pd\n",
    "import matplotlib.pyplot\n",
    "import math\n",
    "import time"
   ]
  },
  {
   "cell_type": "markdown",
   "id": "af7f96e2",
   "metadata": {},
   "source": [
    "### Funções\n",
    "Rode a célula abaixo."
   ]
  },
  {
   "cell_type": "code",
   "execution_count": 2,
   "id": "142c7d8f",
   "metadata": {},
   "outputs": [],
   "source": [
    "def cria_nos_pesos(n):\n",
    "    \"\"\"Cria os nós e os pesos que serão utilizados para calcular as integrais\n",
    "    Args: \n",
    "        n:  quantidade de pontos\n",
    "    Return:\n",
    "        x: nós \n",
    "        w: pesos\"\"\"\n",
    "    if n == 6:\n",
    "        x = np.array([-0.2386191860831969086305017,-0.6612093864662645136613996,-0.9324695142031520278123016,\n",
    "                        0.2386191860831969086305017,0.6612093864662645136613996,0.9324695142031520278123016])\n",
    "        w = np.array([0.4679139345726910473898703,0.3607615730481386075698335,0.1713244923791703450402961,\n",
    "                        0.4679139345726910473898703,0.3607615730481386075698335,0.1713244923791703450402961])\n",
    "    elif n == 8:\n",
    "        x = np.array([-0.1834346424956498049394761,-0.5255324099163289858177390,-0.7966664774136267395915539,-0.9602898564975362316835609,\n",
    "                        0.1834346424956498049394761,0.5255324099163289858177390,0.7966664774136267395915539,0.9602898564975362316835609])\n",
    "        w = np.array([0.3626837833783619829651504,0.3137066458778872873379622,0.2223810344533744705443560,0.1012285362903762591525314,\n",
    "                        0.3626837833783619829651504,0.3137066458778872873379622,0.2223810344533744705443560,0.1012285362903762591525314])\n",
    "    elif n == 10:\n",
    "        x = np.array([-0.1488743389816312108848260,-0.4333953941292471907992659,-0.6794095682990244062343274,-0.8650633666889845107320967,-0.9739065285171717200779640,\n",
    "                         0.1488743389816312108848260,0.4333953941292471907992659,0.6794095682990244062343274,0.8650633666889845107320967,0.9739065285171717200779640])\n",
    "        w = np.array([0.2955242247147528701738930,0.2692667193099963550912269,0.2190863625159820439955349,0.1494513491505805931457763,0.0666713443086881375935688,\n",
    "                         0.2955242247147528701738930,0.2692667193099963550912269,0.2190863625159820439955349,0.1494513491505805931457763,0.0666713443086881375935688])\n",
    "    return x, w\n",
    "\n",
    "\n",
    "def calcula_integral_dupla(n,a,b,c,d,f):\n",
    "    \"\"\"Calcula a integral dupla da função f(x,y)\n",
    "    Args:\n",
    "        n: número de pontos\n",
    "        a: limite inferior de x\n",
    "        b: limite superior de x\n",
    "        c: limite inferior de y\n",
    "        d: limite superior de y\n",
    "        f: função f(x,y) a ser integrada   \n",
    "    Return:\n",
    "        I: valor da integral\"\"\"\n",
    "    \n",
    "    x, w = cria_nos_pesos(n) #criando os nós e os pesos\n",
    "    \n",
    "    I = 0\n",
    "    \n",
    "    if type(a) in (int, float) and type(b) in (int, float) and type(c) in (int, float) and type(d) in (int, float): #se os limites de integração são constantes, vamos evitar os loops\n",
    "        y_t = (x*(d-c)+c+d)/2 #transportando os nós para o intervalo [c,d]\n",
    "        v_t = w*(d-c)/2 #transportando os pesos para o intervalo [c,d]\n",
    "\n",
    "        x_t = (x*(b-a)+a+b)/2 #transportando os nós para o intervalo [a,b]\n",
    "        u_t = w*(b-a)/2 #transportando os pesos para o intervalo [a,b]\n",
    "\n",
    "        I = 0\n",
    "        for i in range(n):\n",
    "            s = 0\n",
    "            for j in range(n):          \n",
    "                s += v_t[j]*f(x_t[i],y_t[j])\n",
    "            I += s*u_t[i]\n",
    "            \n",
    "    elif (type(c) not in (int, float)) or (type(d) not in (int, float)): #limites de integração de y estão em função de x\n",
    "        \n",
    "        x_t = (x*(b-a)+a+b)/2 #transportando os nós para o intervalo [a,b]\n",
    "        u_t = w*(b-a)/2 #transportando os pesos para o intervalo [a,b]\n",
    "        \n",
    "        for i in range(n):\n",
    "            s = 0\n",
    "            \n",
    "            c_i = c(x_t[i]) #calculando o limite inferior c(xi)\n",
    "            d_i = d(x_t[i]) #calculando o limite superior d(xi)\n",
    "\n",
    "            y_t = (x*(d_i-c_i)+c_i+d_i)/2 #transportando os nós para o intervalo [c(xi), d(xi)]\n",
    "            v_t = w*(d_i-c_i)/2 #transportando os pesos para o intervalo [c(xi), d(xi)]\n",
    "            \n",
    "            for j in range(n):\n",
    "                s += v_t[j]*f(x_t[i],y_t[j])\n",
    "                \n",
    "            I += s*u_t[i]\n",
    "            \n",
    "    elif (type(a) not in (int, float)) or (type(b) not in (int, float)): #limites de integração de x estão em função de y\n",
    "        \n",
    "        y_t = (x*(d-c)+d+c)/2 #transportando os nós para o intervalo [c,d]\n",
    "        v_t = w*(d-c)/2 #transportando os pesos para o intervalo [c,d]\n",
    "        \n",
    "        for i in range(n):\n",
    "            s = 0\n",
    "            \n",
    "            a_i = a(y_t[i]) #calculando o limite inferior c(xi)\n",
    "            b_i = b(y_t[i]) #calculando o limite superior d(xi)\n",
    "\n",
    "            x_t = (x*(b_i-a_i)+b_i+a_i)/2 #transportando os nós para o intervalo [a(yi), b(yi)]\n",
    "            u_t = w*(b_i-a_i)/2 #transportando os pesos para o intervalo [a(yi), b(yi)]\n",
    "            \n",
    "            for j in range(n):\n",
    "                s += u_t[j]*f(x_t[j],y_t[i])\n",
    "                \n",
    "            I += s*v_t[i]\n",
    "    return I\n",
    "\n",
    "def main(exemplo,n,a=0,b=0,c=0,d=0,f=0):\n",
    "    \"\"\"Essa função irá rodar o exemplo desejado e printar os resultados. \n",
    "    Args:\n",
    "        exemplo: use 0 (zero) para testar um novo exemplo e 1, 2, 3 ou 4 para os exemplos propostos no enunciado.\n",
    "        n: número de pontos\n",
    "        a: limite inferior de x\n",
    "        b: limite superior de x\n",
    "        c: limite inferior de y\n",
    "        d: limite superior de y\n",
    "        f: função f(x,y) a ser integrada\n",
    "    Print:\n",
    "        I: valor da integral\n",
    "        n: número de pontos\n",
    "        exemplo: qual foi o exemplo escolhido\n",
    "        duração: tempo de duração do programa\"\"\"    \n",
    "    \n",
    "    if exemplo == 0:\n",
    "        print(f\"\\n Novo exemplo\\n\")\n",
    "        inicio = time.time()\n",
    "        I = calcula_integral_dupla(n,a,b,c,d,f)\n",
    "        print(f\" A integral dupla vale: {I} \\n n = {n}\\n Duração: {time.time() - inicio} \\n\\n\")\n",
    "    \n",
    "    elif exemplo == 1:\n",
    "        print(f\"\\n Exemplo {exemplo} \\n\")\n",
    "        inicio = time.time()\n",
    "        f = lambda x, y: 1 + 0*x\n",
    "        a = 0 \n",
    "        b = 1\n",
    "        c = 0\n",
    "        d = 1\n",
    "        I = calcula_integral_dupla(n,a,b,c,d,f)\n",
    "        print(f\" Item a)\\n Volume do cubo: {I} \\n n = {n}\\n Duração: {time.time() - inicio}\")\n",
    "        \n",
    "        inicio = time.time()\n",
    "        f = lambda x, y: 1 - x - y\n",
    "        a = 0\n",
    "        b = 1\n",
    "        c = lambda x: x*0\n",
    "        d = lambda x: 1-x\n",
    "        I = calcula_integral_dupla(n,a,b,c,d,f)\n",
    "        print(f\"\\n Item b)\\n Volume do tetraedro: {I} \\n n = {n}\\n Duração: {time.time() - inicio}\\n\\n\")\n",
    "        \n",
    "    elif exemplo == 2:\n",
    "        print(f\"\\n Exemplo {exemplo} \\n\")\n",
    "        inicio = time.time()\n",
    "        f = lambda x, y: 1 + 0*x\n",
    "        a = 0\n",
    "        b = 1\n",
    "        c = lambda x: 0*x\n",
    "        d = lambda x: 1 - x**2\n",
    "        I = calcula_integral_dupla(n,a,b,c,d,f)\n",
    "        print(f\" Item a)\\n A área da região é {I}\\n Erro: {abs(2/3-I)}\\n n = {n}\\n Duração: {time.time() - inicio}\")\n",
    "        \n",
    "        inicio = time.time()\n",
    "        f = lambda x, y: 1 + 0*x\n",
    "        a = lambda y: 0*y\n",
    "        b = lambda y: math.sqrt(1-y)\n",
    "        c = 0\n",
    "        d = 1\n",
    "        I = calcula_integral_dupla(n,a,b,c,d,f)\n",
    "        print(f\"\\n Item b)\\n A área da região é {I}\\n Erro: {abs(2/3-I)}\\n n = {n}\\n Duração: {time.time() - inicio}\\n\\n\")\n",
    "        \n",
    "    elif exemplo == 3:\n",
    "        print(f\"\\n Exemplo {exemplo} \\n\")\n",
    "        inicio = time.time()\n",
    "        f = lambda x, y: math.e**(y/x)\n",
    "        a = 0.1\n",
    "        b = 0.5\n",
    "        c = lambda x: x**3\n",
    "        d = lambda x: x**2\n",
    "        I = calcula_integral_dupla(n,a,b,c,d,f)\n",
    "        print(f\" Item a)\\n A área da região é: {I}\\n n = {n} \\n Duração: {time.time() - inicio}\")\n",
    "        \n",
    "        inicio = time.time()\n",
    "        f = lambda x, y: math.sqrt((-y/x * math.e**(y/x))**2 + (1/x * math.e**(y/x))**2 + 1) \n",
    "        a = 0.1 \n",
    "        b = 0.5 \n",
    "        c = lambda x: x**3 \n",
    "        d = lambda x: x**2 \n",
    "        I = calcula_integral_dupla(n,a,b,c,d,f)\n",
    "        print(f\"\\n Item b)\\n O volume abaixo da região é: {I}\\n n = {n}\\n Duração: {time.time() - inicio} \\n\\n\")\n",
    "    \n",
    "    elif exemplo == 4:\n",
    "        print(f\"\\n Exemplo {exemplo} \\n\")\n",
    "        inicio = time.time()\n",
    "        f = lambda x, y: math.sqrt(1-y**2)\n",
    "        a = 0\n",
    "        b = 3/4\n",
    "        c = lambda x: 3/4 + 0*x\n",
    "        d = lambda x: 1 + 0*x\n",
    "        I = calcula_integral_dupla(n,a,b,c,d,f)\n",
    "        volume = 2*math.pi*I\n",
    "        print(f\" Item a)\\n O volume da calota esférica é: {volume}\\n n = {n}\\n Duração: {time.time() - inicio}\")\n",
    "        \n",
    "        inicio = time.time()\n",
    "        f = lambda x, y: math.sqrt(1-y**2)\n",
    "        a = 0\n",
    "        b = 1\n",
    "        c = lambda x: -1 + x*0\n",
    "        d = lambda x: 1 + x*0\n",
    "        I = calcula_integral_dupla(n,a,b,c,d,f)\n",
    "        volume = 2*math.pi*I\n",
    "        print(f\"\\n Item b)\\n O volume do sólido de revolução é: {volume}\\n n = {n}\\n Duração: {time.time() - inicio}\\n\\n\")"
   ]
  },
  {
   "cell_type": "markdown",
   "id": "9369b484",
   "metadata": {},
   "source": [
    "### Exemplos do enunciado\n",
    "Rode a célula abaixo. Desejar, altera o valor de $exemplo$ ou de $n$."
   ]
  },
  {
   "cell_type": "code",
   "execution_count": 9,
   "id": "522870c8",
   "metadata": {},
   "outputs": [
    {
     "name": "stdout",
     "output_type": "stream",
     "text": [
      "\n",
      " Exemplo 1 \n",
      "\n",
      " Item a)\n",
      " Volume do cubo: 1.0 \n",
      " n = 8\n",
      " Duração: 0.0001957416534423828\n",
      "\n",
      " Item b)\n",
      " Volume do tetraedro: 0.16666666666666669 \n",
      " n = 8\n",
      " Duração: 0.0\n",
      "\n",
      "\n",
      "\n",
      " Exemplo 2 \n",
      "\n",
      " Item a)\n",
      " A área da região é 0.6666666666666666\n",
      " Erro: 0.0\n",
      " n = 8\n",
      " Duração: 0.00018453598022460938\n",
      "\n",
      " Item b)\n",
      " A área da região é 0.6668355801001764\n",
      " Erro: 0.0001689134335097764\n",
      " n = 8\n",
      " Duração: 0.0\n",
      "\n",
      "\n",
      "\n",
      " Exemplo 3 \n",
      "\n",
      " Item a)\n",
      " A área da região é: 0.03330556611623208\n",
      " n = 10 \n",
      " Duração: 0.0\n",
      "\n",
      " Item b)\n",
      " O volume abaixo da região é: 0.10292628027572366\n",
      " n = 10\n",
      " Duração: 0.0 \n",
      "\n",
      "\n"
     ]
    },
    {
     "ename": "SyntaxError",
     "evalue": "keyword argument repeated: exemplo (Temp/ipykernel_2816/2578780516.py, line 4)",
     "output_type": "error",
     "traceback": [
      "\u001b[1;36m  File \u001b[1;32m\"C:\\Users\\gabri\\AppData\\Local\\Temp/ipykernel_2816/2578780516.py\"\u001b[1;36m, line \u001b[1;32m4\u001b[0m\n\u001b[1;33m    main(exemplo=4,exemplo=6)\u001b[0m\n\u001b[1;37m                   ^\u001b[0m\n\u001b[1;31mSyntaxError\u001b[0m\u001b[1;31m:\u001b[0m keyword argument repeated: exemplo\n"
     ]
    }
   ],
   "source": [
    "main(exemplo=1,n=8)\n",
    "main(exemplo=2,n=8)\n",
    "main(exemplo=3,n=10)\n",
    "main(exemplo=4,exemplo=6)"
   ]
  },
  {
   "cell_type": "markdown",
   "id": "3d5ab522",
   "metadata": {},
   "source": [
    "### Novos exemplos\n",
    "Rode a célula abaixo"
   ]
  },
  {
   "cell_type": "code",
   "execution_count": 8,
   "id": "53f56f34",
   "metadata": {},
   "outputs": [
    {
     "name": "stdout",
     "output_type": "stream",
     "text": [
      "\n",
      " Novo exemplo\n",
      "\n",
      " A integral dupla vale: 28.444444444444446 \n",
      " n = 10\n",
      " Duração: 0.0 \n",
      "\n",
      "\n",
      "\n",
      " Novo exemplo\n",
      "\n",
      " A integral dupla vale: 0.8414646377814005 \n",
      " n = 10\n",
      " Duração: 0.0 \n",
      "\n",
      "\n"
     ]
    }
   ],
   "source": [
    "main(0,10,-2,2,-2,2, lambda x,y: x**2 * y**2 + x * y**3) #n=10,a=-2,b=2,c=-2,d=2,f=x^2 * y^2 + x * y^3\n",
    "main(0, 10, lambda y: y-1, lambda y: y,0, 1, lambda x,y: math.sqrt(1 - y**3)) #n=10,a=y-1,b=y,c=0,d=1,f=(1-y^3)^(1/2)"
   ]
  },
  {
   "cell_type": "markdown",
   "id": "d5732d06",
   "metadata": {},
   "source": [
    "### Use as células abaixo para testar novos exemplos\n",
    "Defina os valores e rode a célula"
   ]
  },
  {
   "cell_type": "code",
   "execution_count": 6,
   "id": "1ee38442",
   "metadata": {},
   "outputs": [
    {
     "ename": "SyntaxError",
     "evalue": "invalid syntax (Temp/ipykernel_2816/3888486658.py, line 2)",
     "output_type": "error",
     "traceback": [
      "\u001b[1;36m  File \u001b[1;32m\"C:\\Users\\gabri\\AppData\\Local\\Temp/ipykernel_2816/3888486658.py\"\u001b[1;36m, line \u001b[1;32m2\u001b[0m\n\u001b[1;33m    n =\u001b[0m\n\u001b[1;37m        ^\u001b[0m\n\u001b[1;31mSyntaxError\u001b[0m\u001b[1;31m:\u001b[0m invalid syntax\n"
     ]
    }
   ],
   "source": [
    "exemplo = \n",
    "n = \n",
    "a = \n",
    "b =  \n",
    "c = \n",
    "d = \n",
    "f = \n",
    "main(exemplo,n,a,b,c,d,f)"
   ]
  },
  {
   "cell_type": "code",
   "execution_count": 6,
   "id": "fe7f3bf2",
   "metadata": {},
   "outputs": [
    {
     "ename": "SyntaxError",
     "evalue": "invalid syntax (Temp/ipykernel_2816/3888486658.py, line 2)",
     "output_type": "error",
     "traceback": [
      "\u001b[1;36m  File \u001b[1;32m\"C:\\Users\\gabri\\AppData\\Local\\Temp/ipykernel_2816/3888486658.py\"\u001b[1;36m, line \u001b[1;32m2\u001b[0m\n\u001b[1;33m    n =\u001b[0m\n\u001b[1;37m        ^\u001b[0m\n\u001b[1;31mSyntaxError\u001b[0m\u001b[1;31m:\u001b[0m invalid syntax\n"
     ]
    }
   ],
   "source": [
    "exemplo = \n",
    "n = \n",
    "a = \n",
    "b =  \n",
    "c = \n",
    "d = \n",
    "f = \n",
    "main(exemplo,n,a,b,c,d,f)"
   ]
  },
  {
   "cell_type": "code",
   "execution_count": 6,
   "id": "227527f7",
   "metadata": {},
   "outputs": [
    {
     "ename": "SyntaxError",
     "evalue": "invalid syntax (Temp/ipykernel_2816/3888486658.py, line 2)",
     "output_type": "error",
     "traceback": [
      "\u001b[1;36m  File \u001b[1;32m\"C:\\Users\\gabri\\AppData\\Local\\Temp/ipykernel_2816/3888486658.py\"\u001b[1;36m, line \u001b[1;32m2\u001b[0m\n\u001b[1;33m    n =\u001b[0m\n\u001b[1;37m        ^\u001b[0m\n\u001b[1;31mSyntaxError\u001b[0m\u001b[1;31m:\u001b[0m invalid syntax\n"
     ]
    }
   ],
   "source": [
    "exemplo = \n",
    "n = \n",
    "a = \n",
    "b =  \n",
    "c = \n",
    "d = \n",
    "f = \n",
    "main(exemplo,n,a,b,c,d,f)"
   ]
  }
 ],
 "metadata": {
  "kernelspec": {
   "display_name": "Python 3 (ipykernel)",
   "language": "python",
   "name": "python3"
  },
  "language_info": {
   "codemirror_mode": {
    "name": "ipython",
    "version": 3
   },
   "file_extension": ".py",
   "mimetype": "text/x-python",
   "name": "python",
   "nbconvert_exporter": "python",
   "pygments_lexer": "ipython3",
   "version": "3.9.7"
  }
 },
 "nbformat": 4,
 "nbformat_minor": 5
}
