{
 "cells": [
  {
   "cell_type": "markdown",
   "id": "d7a1e2fd",
   "metadata": {},
   "source": [
    "# Relatório \n",
    "# Fórmulas de Integração Numérica de Gauss\n",
    "\n",
    "### Gabriel Souza Lima 11820106\n",
    "\n",
    "## Introdução\n",
    " Em alguns problemas envolvendo a integração de uma função $f(x):$  de a até b, nos deparamos com funções que não podem ser integradas analiticamente, ou então conhecemos apenas alguns pontos dessa função. Em ambos os casos, pode-se tentar aproximar a integral utilizando-se métodos numéricos. \n",
    " Uma das formas de fazer tal aproximação é utilizar uma combinação linear de valores de $f(x)$, tal que:\n",
    "  $$\\int_{a}^{b}f(x)\\ dx \\ \\approx \\ \\sum_{i=1}^{n}w_i f(x_i), \\ x_i \\in [a,b] \\ \\ \\ \\ \\ \\ (1)$$\n",
    " A quadratura de Gauss é um dos métodos utilizados para encontrar os pesos $w_i$ e os nós $x_i$ de forma a aproximar a integral $\\int_{a}^{b} f(x)\\ dx$.\n",
    " \n",
    "## Fórmulas de Integração de Gauss\n",
    " Na quadratura de Gauss, define-se os nós e os pesos de forma a minimizar o erro feito pela aproximação (1) e de forma que o erro $E(x)$ da aproximação seja zero para polinômios com grau menor ou igual a $2n-1$. \\\\\n",
    " Ao impormos que a equação (1) será exata para $x^k, 0\\leq k\\leq 2n-1$ iremos obter 2n equações. Assim, concluímos que a expressão será exata para polinômios $P_m(x), \\ 0\\leq m \\leq 2n-1$.\n",
    " Além disso, seja $P(x) = (x-x_1)(x-x_2)...(x-x_n)q(x)$, onde q tem grau menor ou igual a $n-1$, temos $$ \\int_{a}^{b} P(x)\\ dx \\ = \\ 0 \\ \\ \\ \\ \\ \\ (2)$$ uma vez que, ao fazermos $\\int_{a}^{b}P(x)\\ dx \\ = \\ \\sum_{i=1}^{n}w_i (x-x_1)(x-x_2)...(x-x_n)q(x)$, todos $x_i, 0\\leq i \\leq n$ serão raízes do polinômio e irão zerar a expressão. \n",
    " Ainda sobre a expressão (2), percebemos que $\\tilde{P} = (x-x_1)(x-x_2)...(x-x_n)$ e $q(x)$ serão ortogonais em relação ao produto interno $<u,v> = \\int_{a}^{b} u\\cdot {v}dx$. \n",
    " Dessa forma, podemos utilizar os polinômios ortogonais de Legendre, definidos como $<u,v> = \\int_{-1}^{1} u\\cdot {v}dx \\ = \\ 0$ para montar $2n-1$ equações e determinar os valores dos nós $x_i$ e dos pesos $w_i$ para qualquer $n$. \n",
    " Os nós e os pesos para diversos valores de $n$ já foram calculados anteirormente e tabelados. São tais nós e pesos que iremos utilizar aqui. No caso, usaremos $n = 6, \\ 8$ e $10$.\n",
    "\n",
    "## Mudança de variável\n",
    " Em muitos casos, os limites de integração $[a,b]$ não serão $[-1,1]$, para os quais os pesos e os nós foram calculados. Quando esse for o caso, precisaremos transportá-los para o intervalo $[a,b]$. Conforme dito no enunciado, os nós são linearmente transportados e os pesos são multiplicados por um fator de escala.\n",
    " Seja $x$ um ponto no intervalo $[-1,1]$, para transportá-lo ao intervalo a um intervalo $[a,b]$ qualquer, fazemos $y = c_0 + c_1x$. Calculando a expressão nos limites dos intervalos, temos que:\n",
    " $$1 = c_0 + c_1 \\\\\n",
    "-1 = c_0 - c_1 \\newline$$\n",
    "Resolvendo o sistema, chegamos na expressão para os novos nós: $y_i=[x_i(b-a)+a+b]/2$, onde $x_i$ é o valor do nó $i$ no intervalo $[-1,1]. \\\\$\n",
    "Quanto aos pesos, já que eles seguem uma relação proporcional, podemos montar a equação: $\\frac{v_i}{b-a} = \\frac{w_i}{1-(-1)} = \\frac{w_i}{2}$. Dessa forma, os valores do peso $v_i$ no intervalo $[a,b]$ é dado por: $v_i = \\frac{w_i \\cdot (b-a)}{2}$, onde $w_i$ é o valor do peso $i$ no intervalo $[-1,1]$.\n",
    "\n",
    "## Integrais duplas\n",
    "Os exercícios que devemos resolver nesse exercício programa envolvem calcular a integral dupla de funções. Para isso, podemos aproveitar a quadratura de Gauss para aproximar a integral dupla de uma função $f(x,y)$ em um intervalo $[a,b]$ $$\\int_{a}^{b} \\int_{c}^{d} f(x,y)\\ dydx$$ Basta chamarmos $\\int_{c}^{d} f(x,y)\\ dy$ de $F(x)$, pois $$\\int_{a}^{b} F(x)\\ dx = \\sum_{i=1}^{n}u_i F(x_i)$$ onde $x_i$ e $u_i$ são os nós e pesos no intervalo $[a,b]$. Além disso, $$F(x_i) = \\sum_{j=1}^{n}v_{ij} f(x_i,y_{ij})$$ onde $y_i$ e $v_{ij}$ são os nós e pesos no intervalo $[c(x_i),d(x_i)]$"
   ]
  },
  {
   "cell_type": "markdown",
   "id": "0b9c396f",
   "metadata": {},
   "source": [
    "### Solução\n",
    "Agora, vamo implementar as ideias acima e resolver os exemplos propostos."
   ]
  },
  {
   "cell_type": "markdown",
   "id": "e36b2f16",
   "metadata": {},
   "source": [
    "## Importando as bibliotecas"
   ]
  },
  {
   "cell_type": "code",
   "execution_count": 1,
   "id": "0b44dc73",
   "metadata": {},
   "outputs": [],
   "source": [
    "import numpy as np\n",
    "import pandas as pd\n",
    "import matplotlib.pyplot\n",
    "import math\n",
    "import time"
   ]
  },
  {
   "cell_type": "markdown",
   "id": "7c4be176",
   "metadata": {},
   "source": [
    "### Definindo os nós e os pesos de acordo com a quantidade de pontos\n",
    "A função cria_nos_pesos() irá gerar os nós e os pesos de acordo com o número de pontos que o usuário definir."
   ]
  },
  {
   "cell_type": "code",
   "execution_count": 2,
   "id": "aa62cac5",
   "metadata": {},
   "outputs": [],
   "source": [
    "def cria_nos_pesos(n):\n",
    "    \"\"\"Cria os nós e os pesos que serão utilizados para calcular as integrais\n",
    "    Args: \n",
    "        n:  quantidade de pontos\n",
    "    Return:\n",
    "        x: nós \n",
    "        w: pesos\"\"\"\n",
    "    if n == 6:\n",
    "        x = np.array([-0.2386191860831969086305017,-0.6612093864662645136613996,-0.9324695142031520278123016,\n",
    "                        0.2386191860831969086305017,0.6612093864662645136613996,0.9324695142031520278123016])\n",
    "        w = np.array([0.4679139345726910473898703,0.3607615730481386075698335,0.1713244923791703450402961,\n",
    "                        0.4679139345726910473898703,0.3607615730481386075698335,0.1713244923791703450402961])\n",
    "    elif n == 8:\n",
    "        x = np.array([-0.1834346424956498049394761,-0.5255324099163289858177390,-0.7966664774136267395915539,-0.9602898564975362316835609,\n",
    "                        0.1834346424956498049394761,0.5255324099163289858177390,0.7966664774136267395915539,0.9602898564975362316835609])\n",
    "        w = np.array([0.3626837833783619829651504,0.3137066458778872873379622,0.2223810344533744705443560,0.1012285362903762591525314,\n",
    "                        0.3626837833783619829651504,0.3137066458778872873379622,0.2223810344533744705443560,0.1012285362903762591525314])\n",
    "    elif n == 10:\n",
    "        x = np.array([-0.1488743389816312108848260,-0.4333953941292471907992659,-0.6794095682990244062343274,-0.8650633666889845107320967,-0.9739065285171717200779640,\n",
    "                         0.1488743389816312108848260,0.4333953941292471907992659,0.6794095682990244062343274,0.8650633666889845107320967,0.9739065285171717200779640])\n",
    "        w = np.array([0.2955242247147528701738930,0.2692667193099963550912269,0.2190863625159820439955349,0.1494513491505805931457763,0.0666713443086881375935688,\n",
    "                         0.2955242247147528701738930,0.2692667193099963550912269,0.2190863625159820439955349,0.1494513491505805931457763,0.0666713443086881375935688])\n",
    "    return x, w\n"
   ]
  },
  {
   "cell_type": "markdown",
   "id": "4c995fa7",
   "metadata": {},
   "source": [
    "### Integral \n",
    "\n",
    "Abaixo, iremos criar e testar a função calcula_integral(), que calcula a integral de uma função f(x) com limites constantes."
   ]
  },
  {
   "cell_type": "code",
   "execution_count": 4,
   "id": "77b8590c",
   "metadata": {},
   "outputs": [],
   "source": [
    "def calcula_integral(n,a,b,f):\n",
    "    \"\"\"Calcula a integral de uma função com limites inferior e superior constantes\n",
    "    Args: \n",
    "        a: limite inferior\n",
    "        b: limite superior\n",
    "        f: função a ser integrada\n",
    "        n: número de pontos\"\"\"\n",
    "    x, w = cria_nos_pesos(n) #gerando os nós e os pesos\n",
    "    x_t = (x*(b-a)+a+b)/2 #transportando os nós para o intervalo [a,b]\n",
    "    w_t = w*(b-a)/2 #transportando os pesos para o intervalo [a,b]\n",
    "    F = f(x_t) #calculando f(x) para os valores transportados\n",
    "    I = F @ w_t  #calculando a integral\n",
    "    return I"
   ]
  },
  {
   "cell_type": "markdown",
   "id": "0938d8fa",
   "metadata": {},
   "source": [
    "### Testando a integral única\n",
    "Agora, vamos testar a função que calcula uma integral simples."
   ]
  },
  {
   "cell_type": "code",
   "execution_count": 27,
   "id": "84fe5430",
   "metadata": {},
   "outputs": [
    {
     "name": "stdout",
     "output_type": "stream",
     "text": [
      "A integral de f(x) de -2 até 3 é: 11.666666666666668 \n",
      "\n",
      "O valor de n é: 10\n"
     ]
    }
   ],
   "source": [
    "f = lambda x: x**2 #definindo a função f(x) = x^2\n",
    "\n",
    "I = calcula_integral(n,-2,3,f) #calculando a integral\n",
    "print(f\"A integral de f(x) de -2 até 3 é: {I} \\n\")\n",
    "\n",
    "print(f\"O valor de n é: {n}\")"
   ]
  },
  {
   "cell_type": "code",
   "execution_count": 28,
   "id": "0bd74956",
   "metadata": {},
   "outputs": [
    {
     "name": "stdout",
     "output_type": "stream",
     "text": [
      "A integral f(x) de -1 até 1 é: 1.718281828459045 \n",
      "\n",
      "O valor de n é: 10\n"
     ]
    }
   ],
   "source": [
    "f = lambda x: math.e ** x #definindo a função f(x) = e^x\n",
    "\n",
    "I = calcula_integral(n,0,1,f) #calculando a integral\n",
    "print(f\"A integral f(x) de -1 até 1 é: {I} \\n\")\n",
    "\n",
    "print(f\"O valor de n é: {n}\")"
   ]
  },
  {
   "cell_type": "markdown",
   "id": "0e01dbe1",
   "metadata": {},
   "source": [
    "### Integral Dupla\n",
    "Abaixo, implementamos a função calcula_integral_dupla(), que irá calcular a integral dupla de f(x,y) usando a quadratura de Gauss.\n",
    "A ideia é implementar a expressão $$\\sum_{i=1}^{n}u_i \\sum_{j=1}^{n}v_{ij} f(x_i,y_{ij})$$lembrando de recalcular os nós e os pesos para cada intervalo $[c(x_i),d(x_i)]$. E, quando os limites de integração de y estão em função de x, implementar $$\\sum_{i=1}^{n}v_i \\sum_{j=1}^{n}u_{ij} f(x_{ij},y_i)$$ recalculando os nós e os pesos para o novo intervalo $[a(y_i),b(y_i)]$. Caso todos os limites de integração sejam constantes, nós apenas deixamos de calcular os nós e os pesos a cada iteração em $i$."
   ]
  },
  {
   "cell_type": "code",
   "execution_count": 7,
   "id": "17941451",
   "metadata": {},
   "outputs": [],
   "source": [
    "def calcula_integral_dupla(n,a,b,c,d,f):\n",
    "    \"\"\"Calcula a integral dupla da função f(x,y)\n",
    "    Args:\n",
    "        n: número de pontos\n",
    "        a: limite inferior de x\n",
    "        b: limite superior de x\n",
    "        c: limite inferior de y\n",
    "        d: limite superior de y\n",
    "        f: função f(x,y) a ser integrada   \n",
    "    Return:\n",
    "        I: valor da integral\"\"\"\n",
    "    \n",
    "    x, w = cria_nos_pesos(n) #criando os nós e os pesos\n",
    "    \n",
    "    I = 0\n",
    "    \n",
    "    #se os limites de integração são constantes\n",
    "    if type(a) in (int, float) and type(b) in (int, float) and type(c) in (int, float) and type(d) in (int, float): \n",
    "        y_t = (x*(d-c)+c+d)/2 #transportando os nós para o intervalo [c,d]\n",
    "        v_t = w*(d-c)/2 #transportando os pesos para o intervalo [c,d]\n",
    "\n",
    "        x_t = (x*(b-a)+a+b)/2 #transportando os nós para o intervalo [a,b]\n",
    "        u_t = w*(b-a)/2 #transportando os pesos para o intervalo [a,b]\n",
    "\n",
    "        I = 0\n",
    "        for i in range(n):\n",
    "            s = 0\n",
    "            for j in range(n):          \n",
    "                s += v_t[j]*f(x_t[i],y_t[j])\n",
    "            I += s*u_t[i]\n",
    "    \n",
    "    #limites de integração de y estão em função de x\n",
    "    elif (type(c) not in (int, float)) or (type(d) not in (int, float)): \n",
    "        \n",
    "        x_t = (x*(b-a)+a+b)/2 #transportando os nós para o intervalo [a,b]\n",
    "        u_t = w*(b-a)/2 #transportando os pesos para o intervalo [a,b]\n",
    "        \n",
    "        for i in range(n):\n",
    "            s = 0\n",
    "            \n",
    "            c_i = c(x_t[i]) #calculando o limite inferior c(xi)\n",
    "            d_i = d(x_t[i]) #calculando o limite superior d(xi)\n",
    "\n",
    "            y_t = (x*(d_i-c_i)+c_i+d_i)/2 #transportando os nós para o intervalo [c(xi), d(xi)]\n",
    "            v_t = w*(d_i-c_i)/2 #transportando os pesos para o intervalo [c(xi), d(xi)]\n",
    "            \n",
    "            for j in range(n):\n",
    "                s += v_t[j]*f(x_t[i],y_t[j])\n",
    "                \n",
    "            I += s*u_t[i]\n",
    "            \n",
    "    #limites de integração de x estão em função de y\n",
    "    elif (type(a) not in (int, float)) or (type(b) not in (int, float)): \n",
    "        \n",
    "        y_t = (x*(d-c)+d+c)/2 #transportando os nós para o intervalo [c,d]\n",
    "        v_t = w*(d-c)/2 #transportando os pesos para o intervalo [c,d]\n",
    "        \n",
    "        for i in range(n):\n",
    "            s = 0\n",
    "            \n",
    "            a_i = a(y_t[i]) #calculando o limite inferior c(xi)\n",
    "            b_i = b(y_t[i]) #calculando o limite superior d(xi)\n",
    "\n",
    "            x_t = (x*(b_i-a_i)+b_i+a_i)/2 #transportando os nós para o intervalo [a(yi), b(yi)]\n",
    "            u_t = w*(b_i-a_i)/2 #transportando os pesos para o intervalo [a(yi), b(yi)]\n",
    "            \n",
    "            for j in range(n):\n",
    "                s += u_t[j]*f(x_t[j],y_t[i])\n",
    "                \n",
    "            I += s*v_t[i]\n",
    "    return I"
   ]
  },
  {
   "cell_type": "markdown",
   "id": "7f6c338f",
   "metadata": {},
   "source": [
    "# Exemplo 1\n",
    "O volume de um cubo com lados unitários é definido como:\n",
    "$$\n",
    "\\int_{0}^{1} \\int_{0}^{1} 1 \\,dx dy\n",
    "$$"
   ]
  },
  {
   "cell_type": "code",
   "execution_count": 8,
   "id": "1a82100e",
   "metadata": {},
   "outputs": [
    {
     "name": "stdout",
     "output_type": "stream",
     "text": [
      "O volume do cubo é: 1.0 \n",
      "\n",
      "O valor de n é: 6 \n",
      "\n",
      "A duração foi de: 0.0029916763305664062 segundos.\n"
     ]
    }
   ],
   "source": [
    "n = 6 #definindo o número de pontos\n",
    "\n",
    "f = lambda x, y: 1 + 0*x + 0*y #definindo a função f(x,y)\n",
    "a = 0 #limite inferior de x\n",
    "b = 1 #limite superior de x\n",
    "c = 0 #limite inferior de y \n",
    "d = 1 #limite superior de y \n",
    "\n",
    "inicio = time.time()\n",
    "\n",
    "volume = calcula_integral_dupla(n,a,b,c,d,f)\n",
    "print(f\"O volume do cubo é: {volume} \\n\")\n",
    "\n",
    "print(f\"O valor de n é: {n} \\n\")\n",
    "\n",
    "duracao = time.time() - inicio\n",
    "print(f\"A duração foi de: {duracao} segundos.\")"
   ]
  },
  {
   "cell_type": "markdown",
   "id": "d1d1040b",
   "metadata": {},
   "source": [
    "#### Avaliação do resultado\n",
    "O volume de um cubo de lados iguas a 1 é: 1 x 1 x 1 = 1. Portanto, observamos que a função calculou corretamente a integral."
   ]
  },
  {
   "cell_type": "markdown",
   "id": "0d14fc9f",
   "metadata": {},
   "source": [
    "### Volume do tetraedro\n",
    "Podemos calcular o volume do tetraedro de vértices (0,0,0), (1,0,0), (0,1,0) e (0,0,1) pela integral:\n",
    "$$\n",
    "\\\\ \\int_{0}^{1} \\int_{0}^{1-x} (1-x-y) \\,dy dx\n",
    "$$\n",
    "<br>\n",
    "<img src='3.jpeg' width = '300' height = '300'>\n",
    "<br>\n",
    "\n",
    "\n"
   ]
  },
  {
   "cell_type": "code",
   "execution_count": 9,
   "id": "806bd387",
   "metadata": {},
   "outputs": [
    {
     "name": "stdout",
     "output_type": "stream",
     "text": [
      "O volume do tetraedro é: 0.16666666666666663 \n",
      "\n",
      "O valor de n é: 6 \n",
      "\n",
      "A duração foi de: 0.0034928321838378906 s.\n"
     ]
    }
   ],
   "source": [
    "n = 6 #definindo o número de pontos\n",
    "\n",
    "f = lambda x, y: 1 - x - y #definindo a função f(x,y) = 1 - x - y\n",
    "\n",
    "a = 0 #limite superior de x\n",
    "b = 1 #limite inferior de x\n",
    "c_func = lambda x: 0 + 0*x #limite inferior de y em função de x\n",
    "d_func = lambda x: 1 - x #limite superior de y em função de x\n",
    "\n",
    "inicio = time.time()\n",
    "\n",
    "volume = calcula_integral_dupla(n,a,b,c_func,d_func,f) #calculando o volume\n",
    "print(f\"O volume do tetraedro é: {volume} \\n\")\n",
    "\n",
    "print(f\"O valor de n é: {n} \\n\")\n",
    "\n",
    "duracao = time.time() - inicio\n",
    "print(f\"A duração foi de: {duracao} s.\")"
   ]
  },
  {
   "cell_type": "markdown",
   "id": "42f624cd",
   "metadata": {},
   "source": [
    "#### Avaliação do resultado\n",
    "O volume de um tetraedro pode ser obtido facilmente pela integração da função. Novamente, o resultado foi igual ao esperado de 1/6 unidades de volume."
   ]
  },
  {
   "cell_type": "markdown",
   "id": "96a2d64d",
   "metadata": {},
   "source": [
    "### Exemplo 2"
   ]
  },
  {
   "cell_type": "markdown",
   "id": "31247870",
   "metadata": {},
   "source": [
    "Agora, vamos calcular a área da região do primeiro quadrante limitada por $y = 1 - x^2$\n",
    "$$\n",
    "\\int_{0}^{1} \\int_{0}^{1-x^2} 1 \\,dy dx\n",
    "$$"
   ]
  },
  {
   "cell_type": "code",
   "execution_count": 10,
   "id": "32f9f558",
   "metadata": {},
   "outputs": [
    {
     "name": "stdout",
     "output_type": "stream",
     "text": [
      "A área da região é: 0.6666666666666667 \n",
      "\n",
      "O valor de n é: 6 \n",
      "\n",
      "A duração foi de: 0.0036194324493408203 s.\n"
     ]
    }
   ],
   "source": [
    "n = 6 #definindo o número de pontos\n",
    "\n",
    "f = lambda x, y: 1 + 0*x + 0*y #definindo a função f(x,y)\n",
    "\n",
    "a = 0 #limite inferior de x\n",
    "b = 1 #limite superior de x\n",
    "c = lambda x: 0 #limite inferior de y em função de x\n",
    "d = lambda x: 1 - x**2 #limite superior de y em função de x\n",
    "\n",
    "inicio = time.time()\n",
    "\n",
    "area = calcula_integral_dupla(n,a,b,c,d,f) #calculando a área\n",
    "print(f\"A área da região é: {area} \\n\")\n",
    "\n",
    "print(f\"O valor de n é: {n} \\n\")\n",
    "\n",
    "duracao = time.time() - inicio\n",
    "print(f\"A duração foi de: {duracao} s.\")"
   ]
  },
  {
   "cell_type": "markdown",
   "id": "bfad5d20",
   "metadata": {},
   "source": [
    "#### Avaliação do resultado\n",
    "O resultado da integral acima é 2/3. Percebemos que a função calculou corretamente tal valor para n = 6."
   ]
  },
  {
   "cell_type": "markdown",
   "id": "6d61a2bd",
   "metadata": {},
   "source": [
    "Agora, vamos calcular a área da região com a integral\n",
    "$$\n",
    "\\int_{0}^{1} \\int_{0}^{\\sqrt{1-y}} 1 \\,dx dy\n",
    "$$"
   ]
  },
  {
   "cell_type": "code",
   "execution_count": 11,
   "id": "1cad3d10",
   "metadata": {},
   "outputs": [
    {
     "name": "stdout",
     "output_type": "stream",
     "text": [
      "A área da região é: 0.6670464379156135 \n",
      "\n",
      "O valor de n é: 6 \n",
      "\n",
      "A duração foi de: 0.0019931793212890625 s.\n"
     ]
    }
   ],
   "source": [
    "n = 6 #definindo o número de pontos\n",
    "\n",
    "f = lambda x, y: 1 + 0*x + 0*y #definindo a função f(x,y)\n",
    "\n",
    "a = lambda y: 0 #limite inferior de x em função de y\n",
    "b = lambda y: math.sqrt(1-y) #limite superior de x em função de y\n",
    "c = 0 #limite inferior de y \n",
    "d = 1 #limite superior de y \n",
    "\n",
    "inicio = time.time()\n",
    "\n",
    "area = calcula_integral_dupla(n,a,b,c,d,f) #calculando a área\n",
    "print(f\"A área da região é: {area} \\n\")\n",
    "\n",
    "print(f\"O valor de n é: {n} \\n\")\n",
    "\n",
    "duracao = time.time() - inicio\n",
    "print(f\"A duração foi de: {duracao} s.\")"
   ]
  },
  {
   "cell_type": "markdown",
   "id": "8f128458",
   "metadata": {},
   "source": [
    "#### Avaliação do resultado\n",
    "Podemos perceber que, ao utilizar os limites de x em função de y, o erro aumenta para $8.93762698421785 \\times{10^{-5}}$"
   ]
  },
  {
   "cell_type": "markdown",
   "id": "6e592f0e",
   "metadata": {},
   "source": [
    "### Exemplo 3"
   ]
  },
  {
   "cell_type": "markdown",
   "id": "59eafe1b",
   "metadata": {},
   "source": [
    "A área da superfície descrita por $z = e^{y/x}, 0.1 \\ \\leq x \\leq 0.5, \\ x^3 \\leq y \\leq x^2 $ é calculada pela integral \n",
    "$$\n",
    "Área = \\int_{0.1}^{0.5} \\int_{x^3}^{x^2} \\sqrt{\\left( f_x(x,y)^2 + f_y(x,y)^2 + 1 \\right)}\\ dydx, \\\\\n",
    "f_x (x,y) = \\frac{\\partial f(x,y)}{\\partial x} = -\\frac{y}{x^2} e^{y/x}, \\\\ \\\\\n",
    "f_y (x,y) = \\frac{\\partial f(x,y)}{\\partial y} = \\frac{1}{x} e^{y/x} $$\n",
    "\n"
   ]
  },
  {
   "cell_type": "code",
   "execution_count": 12,
   "id": "e2893beb",
   "metadata": {},
   "outputs": [
    {
     "name": "stdout",
     "output_type": "stream",
     "text": [
      "A área da região é: 0.1029262802755472 \n",
      "\n",
      "O valor de n é: 6 \n",
      "\n",
      "A duração foi de: 0.005942344665527344 s.\n"
     ]
    }
   ],
   "source": [
    "n = 6\n",
    "\n",
    "f = lambda x, y: math.sqrt((-y/x * math.e**(y/x))**2 + (1/x * math.e**(y/x))**2 + 1) #definindo a função f(x,y)\n",
    "a = 0.1 #limite inferior de x\n",
    "b = 0.5 #limite superior de x\n",
    "c_func = lambda x: x**3 #limite inferior de y em função de x\n",
    "d_func = lambda x: x**2 #limite superior de y em função de x\n",
    "\n",
    "inicio = time.time()\n",
    "\n",
    "area = calcula_integral_dupla(n,a,b,c_func,d_func,f) #calculando a área\n",
    "print(f\"A área da região é: {area} \\n\")\n",
    "\n",
    "print(f\"O valor de n é: {n} \\n\")\n",
    "\n",
    "duracao = time.time() - inicio\n",
    "print(f\"A duração foi de: {duracao} s.\")"
   ]
  },
  {
   "cell_type": "markdown",
   "id": "8916ed83",
   "metadata": {},
   "source": [
    "#### Avaliação do resultado\n",
    "Utilizando o software wolfram, o resultado da integral acima é $0,102926$. Logo, percebemos que a integral de Gauss com 6 nós é uma excelente aproximação para a integral.\n",
    "<img src='func1.png' width = '400' heigth = '400'>"
   ]
  },
  {
   "cell_type": "markdown",
   "id": "061ed7f7",
   "metadata": {},
   "source": [
    "O volume abaixo da mesma região é calculado por:\n",
    "$$\n",
    "Volume = \\int_{0.1}^{0.5} \\int_{x^3}^{x^2} e^{y/x}\\, dydx\n",
    "$$"
   ]
  },
  {
   "cell_type": "code",
   "execution_count": 13,
   "id": "81f813a7",
   "metadata": {},
   "outputs": [
    {
     "name": "stdout",
     "output_type": "stream",
     "text": [
      "O volume da região é: 0.03330556611623718 \n",
      "\n",
      "O valor de n é: 6 \n",
      "\n",
      "A duração foi de: 0.0033903121948242188 s.\n"
     ]
    }
   ],
   "source": [
    "f = lambda x, y: math.e**(y/x) #definindo a função f(x,y)\n",
    "\n",
    "a = 0.1 #limite inferior de x \n",
    "b = 0.5 #limite superior de x\n",
    "c_func = lambda x: x**3 #limite inferior de y em função de x\n",
    "d_func = lambda x: x**2 #limite superior de y em função de x\n",
    "\n",
    "inicio = time.time()\n",
    "\n",
    "volume = calcula_integral_dupla(n,a,b,c_func,d_func,f) #calculando o volume\n",
    "print(f\"O volume da região é: {volume} \\n\")\n",
    "\n",
    "print(f\"O valor de n é: {n} \\n\")\n",
    "\n",
    "duracao = time.time() - inicio\n",
    "print(f\"A duração foi de: {duracao} s.\")"
   ]
  },
  {
   "cell_type": "markdown",
   "id": "9c0a9c4d",
   "metadata": {},
   "source": [
    "#### Avaliação do resultado\n",
    "A integral acima pode ser desenvolvida manualmente sem grandes dificuldades. O resultado real é $-0.5e^{0.5}-0.5e^{0.25} + 0.9e^{0.1} + 0.5e^{0.01} \\ = \\ 0.033305566$. Percebemos que a aproximação pela fórmula de Gauss para integração é igual ao resultado real para 9 dígitos decimais."
   ]
  },
  {
   "cell_type": "markdown",
   "id": "d25941a9",
   "metadata": {},
   "source": [
    "### Exemplo 4\n",
    "\n",
    "Para esse exemplo, teremos que calcular o volume de um sólido de revolução.\n",
    "O volume V do sólido de revolução obtido da rotação da região R em torno de γ é igual a\n",
    "$$\n",
    "\\int \\int_{R} d_{\\gamma} (x,y)\\ dxdy\n",
    "$$"
   ]
  },
  {
   "cell_type": "markdown",
   "id": "b0a1a5e7",
   "metadata": {},
   "source": [
    "### Volume de uma calota esférica\n",
    "Como podemos ver na imagem abaixo, para calcular o volume da calota esférica, temos que calcular a integral\n",
    "$$\n",
    "Volume = 2 \\pi \\int_{0}^{3/4} \\int_{3/4}^{1} \\sqrt{1-y^2}\\ dxdy\n",
    "$$\n",
    "<img src='1.jpeg' width = '400' height = '400'>\n"
   ]
  },
  {
   "cell_type": "code",
   "execution_count": 14,
   "id": "23e9ebfb",
   "metadata": {},
   "outputs": [
    {
     "name": "stdout",
     "output_type": "stream",
     "text": [
      "O volume do sólido de revolução é: 0.5341198168061809 \n",
      "\n",
      "O valor de n é: 10 \n",
      "\n",
      "A duração foi de: 0.006632566452026367 s.\n"
     ]
    }
   ],
   "source": [
    "n = 10\n",
    "\n",
    "distancia = lambda x, y: math.sqrt(1-y**2) #definindo a distância entre o ponto (x,y) à reta γ\n",
    "\n",
    "a = 0 #limite inferior de x \n",
    "b =  3/4 #limite superior de x\n",
    "c = 3/4 #limite inferior de y \n",
    "d = 1 #limite superior de y \n",
    "\n",
    "inicio = time.time()\n",
    "\n",
    "volume = 2 * math.pi * calcula_integral_dupla(n,a,b,c,d,distancia) #calculando o volume\n",
    "\n",
    "print(f\"O volume do sólido de revolução é: {volume} \\n\")\n",
    "\n",
    "print(f\"O valor de n é: {n} \\n\")\n",
    "\n",
    "duracao = time.time() - inicio \n",
    "print(f\"A duração foi de: {duracao} s.\")"
   ]
  },
  {
   "cell_type": "markdown",
   "id": "a70f0793",
   "metadata": {},
   "source": [
    "#### Avaliação do resultado\n",
    "Utilizando o wolfram para avaliar a mesma integral, chegamos que o volume da calota esférica é $0.5340453285307359$. Assim, o erro da fórmula de Gauss para $n = 10$ foi de $7.4488 \\times{10^{-5}}$\n",
    "<img src='func2.png' width = '200' heigth = '200'>"
   ]
  },
  {
   "cell_type": "markdown",
   "id": "2b0b779f",
   "metadata": {},
   "source": [
    "### Volume sólido de revolução\n",
    "Para calcular o volume do sólido de revolução da região, em torno do eixo y, delimitada por $ x = 0, x = e^{−y^{2}}, y = −1$ e $y = 1$, temos que calcular a integral dupla\n",
    "$$\n",
    "Volume = \\int_{-1}^{1} \\int_{0}^{1} e^{-y^2}\\ dxdy\n",
    "$$\n",
    "\n",
    "<img src='2.jpeg' width = '400' heigth = '400'>"
   ]
  },
  {
   "cell_type": "code",
   "execution_count": 15,
   "id": "a15d0c08",
   "metadata": {},
   "outputs": [
    {
     "name": "stdout",
     "output_type": "stream",
     "text": [
      "O volume do sólido de revolução é: 9.384868836665193 \n",
      "\n",
      "O valor de n é: 10 \n",
      "\n",
      "A duração foi de: 0.0051288604736328125 s.\n"
     ]
    }
   ],
   "source": [
    "n = 10\n",
    "\n",
    "distancia = lambda x,y: math.e ** (-y ** 2) #definindo a distância entre o ponto (x,y) à reta γ\n",
    "\n",
    "a = 0 #limite inferior de x \n",
    "b = 1 #limite superior de x\n",
    "c = -1 #limite inferior de y\n",
    "d = 1 #limite superior de y \n",
    "\n",
    "inicio = time.time()\n",
    "\n",
    "volume = 2 * math.pi * calcula_integral_dupla(n,a,b,c,d,distancia) #calculando o volume\n",
    "print(f\"O volume do sólido de revolução é: {volume} \\n\")\n",
    "\n",
    "print(f\"O valor de n é: {n} \\n\")\n",
    "\n",
    "duracao = time.time() - inicio \n",
    "print(f\"A duração foi de: {duracao} s.\")"
   ]
  },
  {
   "cell_type": "markdown",
   "id": "025f622e",
   "metadata": {},
   "source": [
    "#### Avaliação do resultado\n",
    "Utilizando o wolfram, o resultado da integral é $9.3848688366683551$. Assim, o erro para $n = 10$ foi $3.1619 \\times{10^{-12}}$\n",
    "<img src='func3.png' width = '150' heigth = '150'>"
   ]
  },
  {
   "cell_type": "markdown",
   "id": "d1b50640",
   "metadata": {},
   "source": [
    "### Função main()\n",
    "A função main() implementa a função calcula_integral_dupla() para avaliar os exemplos do enunciado e para calcular integrais duplas de novas funções. É, apenas, com ela que o usuário deverá interagir."
   ]
  },
  {
   "cell_type": "code",
   "execution_count": 16,
   "id": "ccfc69db",
   "metadata": {},
   "outputs": [],
   "source": [
    "def main(exemplo,n,a=0,b=0,c=0,d=0,f=0):\n",
    "    \"\"\"Essa função irá rodar o exemplo desejado e printar os resultados.\n",
    "    Args:\n",
    "        exemplo: use 0 para testar um novo exemplo ou 1, 2, 3 e 4 para os exemplos propostos no enunciado.\n",
    "        n: número de pontos\n",
    "        a: limite inferior de x\n",
    "        b: limite superior de x\n",
    "        c: limite inferior de y\n",
    "        d: limite superior de y\n",
    "        f: função f(x,y) a ser integrada\n",
    "    Print:\n",
    "        I: valor da integral\n",
    "        n: número de pontos\n",
    "        exemplo: qual foi o exemplo escolhido\n",
    "        duração: tempo de duração do programa\"\"\"    \n",
    "    \n",
    "    if exemplo == 0:\n",
    "        inicio = time.time()\n",
    "        I = calcula_integral_dupla(n,a,b,c,d,f)\n",
    "        print(f\" A integral dupla vale: {I} \\n n = {n} \\n Exemplo: {exemplo} \\n Duração: {time.time() - inicio}\")\n",
    "    \n",
    "    elif exemplo == 1:\n",
    "        inicio = time.time()\n",
    "        f = lambda x, y: 1 + 0*x\n",
    "        a = 0 \n",
    "        b = 1\n",
    "        c = 0\n",
    "        d = 1\n",
    "        I = calcula_integral_dupla(n,a,b,c,d,f)\n",
    "        \n",
    "        print(f\" Item a)\\n Volume do cubo: {I} \\n n = {n} \\n Exemplo: {exemplo} \\n Duração: {time.time() - inicio}\")\n",
    "        inicio = time.time()\n",
    "        f = lambda x, y: 1 - x - y\n",
    "        a = 0\n",
    "        b = 1\n",
    "        c = lambda x: x*0\n",
    "        d = lambda x: 1-x\n",
    "        I = calcula_integral_dupla(n,a,b,c,d,f)\n",
    "        print(f\"\"\"\\n Item b)\\n Volume do tetraedro: {I} \\n n = {n} \\n \n",
    "        Exemplo: {exemplo} \\n Duração: {time.time() - inicio}\"\"\")\n",
    "        \n",
    "    elif exemplo == 2:\n",
    "        inicio = time.time()\n",
    "        f = lambda x, y: 1 + 0*x\n",
    "        a = 0\n",
    "        b = 1\n",
    "        c = lambda x: 0*x\n",
    "        d = lambda x: 1 - x**2\n",
    "        I = calcula_integral_dupla(n,a,b,c,d,f)\n",
    "        print(f\"\"\" Item a)\\n A área da região é {I}\\n Erro: {abs(2/3-I)}\\n n = {n} \\n \n",
    "              Exemplo: {exemplo} \\n Duração: {time.time() - inicio}\"\"\")\n",
    "        \n",
    "        inicio = time.time()\n",
    "        f = lambda x, y: 1 + 0*x\n",
    "        a = lambda y: 0*y\n",
    "        b = lambda y: math.sqrt(1-y)\n",
    "        c = 0\n",
    "        d = 1\n",
    "        I = calcula_integral_dupla(n,a,b,c,d,f)\n",
    "        print(f\"\"\"\\n Item b)\\n A área da região é {I}\\n Erro: {abs(2/3-I)}\\n n = {n} \\n \n",
    "              Exemplo: {exemplo} \\n Duração: {time.time() - inicio}\"\"\")\n",
    "        \n",
    "    elif exemplo == 3:\n",
    "        inicio = time.time()\n",
    "        f = lambda x, y: math.e**(y/x)\n",
    "        a = 0.1\n",
    "        b = 0.5\n",
    "        c = lambda x: x**3\n",
    "        d = lambda x: x**2\n",
    "        I = calcula_integral_dupla(n,a,b,c,d,f)\n",
    "        print(f\" Item a)\\n A área da região é: {I}\\n n = {n} \\n Exemplo: {exemplo} \\n Duração: {time.time() - inicio}\")\n",
    "        \n",
    "        inicio = time.time()\n",
    "        f = lambda x, y: math.sqrt((-y/x * math.e**(y/x))**2 + (1/x * math.e**(y/x))**2 + 1) \n",
    "        a = 0.1 \n",
    "        b = 0.5 \n",
    "        c = lambda x: x**3 \n",
    "        d = lambda x: x**2 \n",
    "        I = calcula_integral_dupla(n,a,b,c,d,f)\n",
    "        print(f\"\"\"\\n Item b)\\n O volume abaixo da região é: {I}\\n n = {n} \\n \n",
    "        Exemplo: {exemplo} \\n Duração: {time.time() - inicio}\"\"\")\n",
    "    \n",
    "    elif exemplo == 4:\n",
    "        inicio = time.time()\n",
    "        f = lambda x, y: math.sqrt(1-y**2)\n",
    "        a = 0\n",
    "        b = 3/4\n",
    "        c = lambda x: 3/4 + 0*x\n",
    "        d = lambda x: 1 + 0*x\n",
    "        I = calcula_integral_dupla(n,a,b,c,d,f)\n",
    "        volume = 2*math.pi*I\n",
    "        print(f\"\"\" Item a)\\n O volume da calota esférica é: {volume}\\n n = {n} \\n \n",
    "              Exemplo: {exemplo} \\n Duração: {time.time() - inicio}\"\"\")\n",
    "        \n",
    "        inicio = time.time()\n",
    "        f = lambda x, y: math.sqrt(1-y**2)\n",
    "        a = 0\n",
    "        b = 1\n",
    "        c = lambda x: -1 + x*0\n",
    "        d = lambda x: 1 + x*0\n",
    "        I = calcula_integral_dupla(n,a,b,c,d,f)\n",
    "        volume = 2*math.pi*I\n",
    "        print(f\"\"\"\\n Item b)\\n O volume do sólido de revolução é: {volume}\\n n = {n} \\n \n",
    "        Exemplo: {exemplo} \\n Duração: {time.time() - inicio}\"\"\")\n"
   ]
  },
  {
   "cell_type": "markdown",
   "id": "5bce6b7f",
   "metadata": {},
   "source": [
    "### Instruções\n",
    "Para utilizar a função main(), siga os seguintes passos:\n",
    "\n",
    "#### Caso deseje testar os exemplos do enunciado:\n",
    "\n",
    "<ol>\n",
    "    <li> Escolha o exemplo a ser testado (de 1 a 4)</li>\n",
    "    <li> Escolha o número n de pontos a serem usados</li>\n",
    "    <li> Chame a função, por exemplo: main(1,10)</li>\n",
    "    <li> Obs: para os exemplos do enunciado, os limites e a função f(x,y) já foram determinados e o usuário não precisa definí-los</li>\n",
    "</ol>\n",
    "    \n",
    "    \n",
    "#### Caso deseje testar uma nova função\n",
    "<ol>\n",
    "    <li> Utilize o argumento $exemplo=0$, na função main()</li>\n",
    "        <ul>\n",
    "            <li>Para o caso que $n$ é $1,2,3$ ou $4$, as entradas $a,b,c,d,f$ já estarão determinadas na função $main()$, por isso utilize $a=b=c=d=f=0$</li>\n",
    "            <li>Para o caso que $n$ é $0$, as entradas $a,b,c,d,f$ deverão ser determinadas da forma desejada</li>\n",
    "        </ul>    \n",
    "    <li> Escolha o número $n$ de pontos a serem usados</li>   \n",
    "    <li> Defina os limites de integração:\n",
    "        <ul>\n",
    "            <li>Os limites de integração $(a,b)$ podem ser funções de $y$. Pode ser útil utilizar $a \\ = \\ lambda \\ y: \\ a(y)$ e $b \\ = \\ lambda  \\ y: b(y)$</li>\n",
    "            <li>Os limites de integração $(c,d)$ podem ser funções de $x$. Novamente, pode ser útil utilizar $c \\ = \\ lambda \\ x: \\ c(x)$ e $d \\ = \\ lambda  \\ x: d(x)$</li>\n",
    "            <li>É importante notar que, se $(a,b)$ forem constantes, mas $(c,d)$ estiverem em função de $x$, devemos definir tanto $c$ quanto $d$ como uma função. Ou seja, se $c=0$ e $d=x^2$, devemos definir $c=lambda \\ x: \\ 0*x$ e $d=lambda \\ x: \\ x**2$</li>\n",
    "            <li>Similarmente, se $(c,d)$ forem constantes, mas $(a,b)$ estiverem em função de y, devemos definir tanto $a$ quanto $b$ como uma função. Ou seja, se $a=-2$ e $d=y+1$, devemos definir $a=lambda \\ y: \\ -2+0*y$ e $b=lambda \\ y: \\ y+1$</li>\n",
    "            <li>Note que a função constante é definida como $g(x) \\ = \\ lambda \\ x: k \\ + \\ 0*x$, ou como $h(y) \\ = \\ lambda \\ y: k \\ + \\ 0*y$\n",
    "        </ul>\n",
    "    </li>  \n",
    "    <li>Defina a função $f(x,y)$:\n",
    "        <ul>\n",
    "            <li>Impletar a função $f(x,y)$ da forma $f = lambda \\ x, y: f(x,y)$ pode ser útil </li>\n",
    "            <li>Caso a função seja constante, use a sintaxe $f = lambda \\ x, \\ y: k + 0*x$ onde $k$ é a constante </li>\n",
    "        </ul> \n",
    "    </li>\n",
    "    <li>Use $exemplo,n,a,b,c,d,f$ como parâmetros na função $main()$ na seguinte ordem:\n",
    "    $main(exemplo,n,a,b,c,d,f)$</li>\n",
    "</ol>\n"
   ]
  },
  {
   "cell_type": "markdown",
   "id": "10541cde",
   "metadata": {},
   "source": [
    "### Exemplos\n",
    "Abaixo, vamos reproduzir os exemplos 1, 2, 3 e 4."
   ]
  },
  {
   "cell_type": "markdown",
   "id": "ec18ebd6",
   "metadata": {},
   "source": [
    "#### Exemplo 1"
   ]
  },
  {
   "cell_type": "code",
   "execution_count": 17,
   "id": "9e5dd3c3",
   "metadata": {},
   "outputs": [
    {
     "name": "stdout",
     "output_type": "stream",
     "text": [
      " Item a)\n",
      " Volume do cubo: 1.0 \n",
      " n = 8 \n",
      " Exemplo: 1 \n",
      " Duração: 0.0009965896606445312\n",
      "\n",
      " Item b)\n",
      " Volume do tetraedro: 0.16666666666666669 \n",
      " n = 8 \n",
      " Exemplo: 1 \n",
      " Duração: 0.0011813640594482422\n"
     ]
    }
   ],
   "source": [
    "main(1,8)"
   ]
  },
  {
   "cell_type": "markdown",
   "id": "7aca638b",
   "metadata": {},
   "source": [
    "#### Exemplo 2"
   ]
  },
  {
   "cell_type": "code",
   "execution_count": 18,
   "id": "a414082d",
   "metadata": {},
   "outputs": [
    {
     "name": "stdout",
     "output_type": "stream",
     "text": [
      " Item a)\n",
      " A área da região é 0.6666666666666666\n",
      " Erro: 0.0\n",
      " n = 8 \n",
      " Exemplo: 2 \n",
      " Duração: 0.0\n",
      "\n",
      " Item b)\n",
      " A área da região é 0.6668355801001764\n",
      " Erro: 0.0001689134335097764\n",
      " n = 8 \n",
      " Exemplo: 2 \n",
      " Duração: 0.0009992122650146484\n"
     ]
    }
   ],
   "source": [
    "main(2,8)"
   ]
  },
  {
   "cell_type": "markdown",
   "id": "a7d49050",
   "metadata": {},
   "source": [
    "#### Exemplo 3"
   ]
  },
  {
   "cell_type": "code",
   "execution_count": 19,
   "id": "0027afa9",
   "metadata": {},
   "outputs": [
    {
     "name": "stdout",
     "output_type": "stream",
     "text": [
      " Item a)\n",
      " A área da região é: 0.03330556611623208\n",
      " n = 10 \n",
      " Exemplo: 3 \n",
      " Duração: 0.0\n",
      "\n",
      " Item b)\n",
      " O volume abaixo da região é: 0.10292628027572366\n",
      " n = 10 \n",
      " Exemplo: 3 \n",
      " Duração: 0.0022597312927246094\n"
     ]
    }
   ],
   "source": [
    "main(3,10)"
   ]
  },
  {
   "cell_type": "markdown",
   "id": "05b24803",
   "metadata": {},
   "source": [
    "#### Exemplo 4"
   ]
  },
  {
   "cell_type": "code",
   "execution_count": 20,
   "id": "dea31fb7",
   "metadata": {
    "scrolled": true
   },
   "outputs": [
    {
     "name": "stdout",
     "output_type": "stream",
     "text": [
      " Item a)\n",
      " O volume da calota esférica é: 0.5343620812103148\n",
      " n = 6 \n",
      " Exemplo: 4 \n",
      " Duração: 0.002074718475341797\n",
      "\n",
      " Item b)\n",
      " O volume do sólido de revolução é: 9.888879057430415\n",
      " n = 6 \n",
      " Exemplo: 4 \n",
      " Duração: 0.0009965896606445312\n"
     ]
    }
   ],
   "source": [
    "main(4,6)"
   ]
  },
  {
   "cell_type": "markdown",
   "id": "5f539349",
   "metadata": {},
   "source": [
    "### Outros exemplos\n",
    "Abaixo, vamos visualizar como aplicar a função main para outras funções"
   ]
  },
  {
   "cell_type": "code",
   "execution_count": 21,
   "id": "09463f3c",
   "metadata": {},
   "outputs": [
    {
     "name": "stdout",
     "output_type": "stream",
     "text": [
      " A integral dupla vale: 28.444444444444446 \n",
      " n = 10 \n",
      " Exemplo: 0 \n",
      " Duração: 0.002970457077026367\n"
     ]
    }
   ],
   "source": [
    "#exemplo = 0\n",
    "#n = 10 \n",
    "#f(x,y) = x^2 * y^2 + x * y^3\n",
    "#a = -2\n",
    "#b = 2\n",
    "#c = -2\n",
    "#d = 2\n",
    "main(0,10,-2,2,-2,2, lambda x,y: x**2 * y**2 + x * y**3)"
   ]
  },
  {
   "cell_type": "code",
   "execution_count": 22,
   "id": "867df686",
   "metadata": {},
   "outputs": [
    {
     "name": "stdout",
     "output_type": "stream",
     "text": [
      " A integral dupla vale: 0.8414646377814005 \n",
      " n = 10 \n",
      " Exemplo: 0 \n",
      " Duração: 0.0\n"
     ]
    }
   ],
   "source": [
    "#exemplo = 0\n",
    "#n = 10\n",
    "#f(x,y) = (1 - y^3)^(1/2)\n",
    "#a = y - 1\n",
    "#b = y\n",
    "#c = 0\n",
    "#d = 1\n",
    "main(0, 10, lambda y: y-1, lambda y: y,0, 1, lambda x,y: math.sqrt(1 - y**3))"
   ]
  },
  {
   "cell_type": "markdown",
   "id": "c92fc12b",
   "metadata": {},
   "source": [
    "## Resultados"
   ]
  },
  {
   "cell_type": "markdown",
   "id": "056f6b8d",
   "metadata": {},
   "source": [
    "Como podemos ver, a utilização da quadratura de Gauss é uma boa aproximação, não apenas para polinômios, mas também para outras funções. Ademais, a expansão do conceito para calcular integrais duplas nos permitiu alcançar resultados com erros pequenos para os exemplos propostos."
   ]
  }
 ],
 "metadata": {
  "kernelspec": {
   "display_name": "Python 3 (ipykernel)",
   "language": "python",
   "name": "python3"
  },
  "language_info": {
   "codemirror_mode": {
    "name": "ipython",
    "version": 3
   },
   "file_extension": ".py",
   "mimetype": "text/x-python",
   "name": "python",
   "nbconvert_exporter": "python",
   "pygments_lexer": "ipython3",
   "version": "3.9.7"
  }
 },
 "nbformat": 4,
 "nbformat_minor": 5
}
